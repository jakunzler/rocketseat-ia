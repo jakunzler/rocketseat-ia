{
 "cells": [
  {
   "cell_type": "code",
   "execution_count": 12,
   "metadata": {},
   "outputs": [],
   "source": [
    "import gradio as gr\n",
    "import joblib\n",
    "import pandas as pd"
   ]
  },
  {
   "cell_type": "code",
   "execution_count": 13,
   "metadata": {},
   "outputs": [],
   "source": [
    "modelo = joblib.load(\"./model_regr_colesterol.pkl\")"
   ]
  },
  {
   "cell_type": "code",
   "execution_count": 20,
   "metadata": {},
   "outputs": [],
   "source": [
    "def predict(grupo_sanguineo, fumante, nivel_atividade_fisica, idade, peso, altura):\n",
    "    predicao_individual = {\n",
    "        \"grupo_sanguineo\": [grupo_sanguineo],\n",
    "        \"fumante\": [\"Sim\" if fumante else \"Não\"],\n",
    "        \"nivel_atividade_fisica\": [nivel_atividade_fisica],\n",
    "        \"idade\": [idade],\n",
    "        \"peso\": [peso],\n",
    "        \"altura\": [altura]\n",
    "    }\n",
    "    predict_df = pd.DataFrame(predicao_individual)\n",
    "    print(predict_df.describe())\n",
    "    print(predict_df)\n",
    "    print(modelo.predict(predict_df))\n",
    "    colesterol = modelo.predict(predict_df)\n",
    "    return colesterol.reshape(-1)[0]"
   ]
  },
  {
   "cell_type": "code",
   "execution_count": 21,
   "metadata": {},
   "outputs": [],
   "source": [
    "demo = gr.Interface(\n",
    "    fn=predict,\n",
    "    inputs=[\n",
    "        gr.Radio(['A', 'B', 'AB', 'O']),\n",
    "        gr.Checkbox(label=\"Fumante\"),\n",
    "        gr.Radio(['Baixo', 'Moderado', 'Alto']),\n",
    "        gr.Slider(20, 80, step=1),\n",
    "        gr.Slider(40, 160, step=0.1),\n",
    "        gr.Slider(150, 200, step=1)\n",
    "    ],\n",
    "    outputs=['number'],\n",
    "    title=\"Predição de Níveis de Colesterol\"\n",
    ")"
   ]
  },
  {
   "cell_type": "code",
   "execution_count": 22,
   "metadata": {},
   "outputs": [
    {
     "name": "stdout",
     "output_type": "stream",
     "text": [
      "* Running on local URL:  http://127.0.0.1:7860\n",
      "* To create a public link, set `share=True` in `launch()`.\n"
     ]
    },
    {
     "data": {
      "text/html": [
       "<div><iframe src=\"http://127.0.0.1:7860/\" width=\"100%\" height=\"500\" allow=\"autoplay; camera; microphone; clipboard-read; clipboard-write;\" frameborder=\"0\" allowfullscreen></iframe></div>"
      ],
      "text/plain": [
       "<IPython.core.display.HTML object>"
      ]
     },
     "metadata": {},
     "output_type": "display_data"
    },
    {
     "name": "stdout",
     "output_type": "stream",
     "text": [
      "       idade   peso  altura\n",
      "count    1.0    1.0     1.0\n",
      "mean    48.0  102.5   180.0\n",
      "std      NaN    NaN     NaN\n",
      "min     48.0  102.5   180.0\n",
      "25%     48.0  102.5   180.0\n",
      "50%     48.0  102.5   180.0\n",
      "75%     48.0  102.5   180.0\n",
      "max     48.0  102.5   180.0\n",
      "  grupo_sanguineo fumante nivel_atividade_fisica  idade   peso  altura\n",
      "0               A     Sim               Moderado     48  102.5     180\n",
      "[251.47929905]\n",
      "Keyboard interruption in main thread... closing server.\n"
     ]
    },
    {
     "data": {
      "text/plain": []
     },
     "execution_count": 22,
     "metadata": {},
     "output_type": "execute_result"
    }
   ],
   "source": [
    "demo.launch(debug=True)"
   ]
  },
  {
   "cell_type": "code",
   "execution_count": null,
   "metadata": {},
   "outputs": [],
   "source": []
  }
 ],
 "metadata": {
  "kernelspec": {
   "display_name": "rocketseat-ia-YkpNjtBJ",
   "language": "python",
   "name": "python3"
  },
  "language_info": {
   "codemirror_mode": {
    "name": "ipython",
    "version": 3
   },
   "file_extension": ".py",
   "mimetype": "text/x-python",
   "name": "python",
   "nbconvert_exporter": "python",
   "pygments_lexer": "ipython3",
   "version": "3.11.9"
  }
 },
 "nbformat": 4,
 "nbformat_minor": 2
}
