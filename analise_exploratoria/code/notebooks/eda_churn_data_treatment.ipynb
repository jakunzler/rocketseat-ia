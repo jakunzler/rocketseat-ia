{
 "cells": [
  {
   "cell_type": "code",
   "execution_count": 30,
   "metadata": {},
   "outputs": [],
   "source": [
    "import pandas as pd"
   ]
  },
  {
   "cell_type": "markdown",
   "metadata": {
    "vscode": {
     "languageId": "plaintext"
    }
   },
   "source": [
    "# Detecção de Valores Ausentes"
   ]
  },
  {
   "cell_type": "code",
   "execution_count": 31,
   "metadata": {},
   "outputs": [
    {
     "name": "stdout",
     "output_type": "stream",
     "text": [
      "Arquivo carregado com sucesso, dimensões: (7043, 5)\n",
      "Arquivo carregado com sucesso, dimensões: (7043, 8)\n",
      "Arquivo carregado com sucesso, dimensões: (7043, 10)\n"
     ]
    }
   ],
   "source": [
    "# Carregando Dataframes\n",
    "df_clientes = pd.read_csv('../../docs/datasets_aula/churn_customers.csv')\n",
    "print(f\"Arquivo carregado com sucesso, dimensões: {df_clientes.shape}\")\n",
    "\n",
    "df_contratos = pd.read_csv('../../docs/datasets_aula/churn_contracts.csv')\n",
    "print(f\"Arquivo carregado com sucesso, dimensões: {df_contratos.shape}\")\n",
    "\n",
    "df_servicos = pd.read_csv('../../docs/datasets_aula/churn_services.csv')\n",
    "print(f\"Arquivo carregado com sucesso, dimensões: {df_servicos.shape}\")"
   ]
  },
  {
   "cell_type": "code",
   "execution_count": 32,
   "metadata": {},
   "outputs": [
    {
     "name": "stdout",
     "output_type": "stream",
     "text": [
      "<class 'pandas.core.frame.DataFrame'>\n",
      "RangeIndex: 7043 entries, 0 to 7042\n",
      "Data columns (total 5 columns):\n",
      " #   Column         Non-Null Count  Dtype \n",
      "---  ------         --------------  ----- \n",
      " 0   customerID     7043 non-null   object\n",
      " 1   gender         7043 non-null   object\n",
      " 2   SeniorCitizen  7043 non-null   int64 \n",
      " 3   Partner        7043 non-null   object\n",
      " 4   Dependents     7043 non-null   object\n",
      "dtypes: int64(1), object(4)\n",
      "memory usage: 275.2+ KB\n",
      "Informações do dataframe de clientes:\n",
      "None\n",
      "\n",
      "<class 'pandas.core.frame.DataFrame'>\n",
      "RangeIndex: 7043 entries, 0 to 7042\n",
      "Data columns (total 8 columns):\n",
      " #   Column            Non-Null Count  Dtype  \n",
      "---  ------            --------------  -----  \n",
      " 0   customerID        7043 non-null   object \n",
      " 1   tenure            7043 non-null   int64  \n",
      " 2   Contract          7043 non-null   object \n",
      " 3   PaperlessBilling  7043 non-null   object \n",
      " 4   PaymentMethod     7043 non-null   object \n",
      " 5   MonthlyCharges    7043 non-null   float64\n",
      " 6   TotalCharges      7043 non-null   object \n",
      " 7   Churn             7043 non-null   object \n",
      "dtypes: float64(1), int64(1), object(6)\n",
      "memory usage: 440.3+ KB\n",
      "Informações do dataframe de contratos:\n",
      "None\n",
      "\n",
      "<class 'pandas.core.frame.DataFrame'>\n",
      "RangeIndex: 7043 entries, 0 to 7042\n",
      "Data columns (total 10 columns):\n",
      " #   Column            Non-Null Count  Dtype \n",
      "---  ------            --------------  ----- \n",
      " 0   customerID        7043 non-null   object\n",
      " 1   PhoneService      7043 non-null   object\n",
      " 2   MultipleLines     7043 non-null   object\n",
      " 3   InternetService   7043 non-null   object\n",
      " 4   OnlineSecurity    7043 non-null   object\n",
      " 5   OnlineBackup      7043 non-null   object\n",
      " 6   DeviceProtection  7043 non-null   object\n",
      " 7   TechSupport       7043 non-null   object\n",
      " 8   StreamingTV       7043 non-null   object\n",
      " 9   StreamingMovies   7043 non-null   object\n",
      "dtypes: object(10)\n",
      "memory usage: 550.4+ KB\n",
      "Informações do dataframe de serviços:\n",
      "None\n",
      "\n"
     ]
    }
   ],
   "source": [
    "# Apresentando informações sobre os Dataframes\n",
    "print(f\"Informações do dataframe de clientes:\\n{df_clientes.info()}\\n\")\n",
    "print(f\"Informações do dataframe de contratos:\\n{df_contratos.info()}\\n\")\n",
    "print(f\"Informações do dataframe de serviços:\\n{df_servicos.info()}\\n\")"
   ]
  },
  {
   "cell_type": "code",
   "execution_count": 33,
   "metadata": {},
   "outputs": [
    {
     "name": "stdout",
     "output_type": "stream",
     "text": [
      "Valores ausentes no dataframe de clientes:\n",
      "customerID       0\n",
      "gender           0\n",
      "SeniorCitizen    0\n",
      "Partner          0\n",
      "Dependents       0\n",
      "dtype: int64\n",
      "\n",
      "Valores ausentes no dataframe de contratos:\n",
      "customerID          0\n",
      "tenure              0\n",
      "Contract            0\n",
      "PaperlessBilling    0\n",
      "PaymentMethod       0\n",
      "MonthlyCharges      0\n",
      "TotalCharges        0\n",
      "Churn               0\n",
      "dtype: int64\n",
      "\n",
      "Valores ausentes no dataframe de serviços:\n",
      "customerID          0\n",
      "PhoneService        0\n",
      "MultipleLines       0\n",
      "InternetService     0\n",
      "OnlineSecurity      0\n",
      "OnlineBackup        0\n",
      "DeviceProtection    0\n",
      "TechSupport         0\n",
      "StreamingTV         0\n",
      "StreamingMovies     0\n",
      "dtype: int64\n",
      "\n"
     ]
    }
   ],
   "source": [
    "# Detectando valores ausentes\n",
    "df_clients_missing = df_clientes.isna().sum()\n",
    "df_contracts_missing = df_contratos.isna().sum()\n",
    "df_services_missing = df_servicos.isna().sum()\n",
    "\n",
    "# Visualizando os resultados\n",
    "print(f\"Valores ausentes no dataframe de clientes:\\n{df_clients_missing}\\n\")\n",
    "print(f\"Valores ausentes no dataframe de contratos:\\n{df_contracts_missing}\\n\")\n",
    "print(f\"Valores ausentes no dataframe de serviços:\\n{df_services_missing}\\n\")"
   ]
  },
  {
   "cell_type": "code",
   "execution_count": 34,
   "metadata": {},
   "outputs": [
    {
     "data": {
      "text/plain": [
       "np.int64(0)"
      ]
     },
     "execution_count": 34,
     "metadata": {},
     "output_type": "execute_result"
    }
   ],
   "source": [
    "# Detetando valores ausentes em uma coluna\n",
    "df_contratos['TotalCharges'].isna().sum()"
   ]
  },
  {
   "cell_type": "code",
   "execution_count": 35,
   "metadata": {},
   "outputs": [
    {
     "name": "stdout",
     "output_type": "stream",
     "text": [
      "Informações do dataframe de clientes:\n",
      "\n",
      "<class 'pandas.core.frame.DataFrame'>\n",
      "RangeIndex: 7043 entries, 0 to 7042\n",
      "Data columns (total 8 columns):\n",
      " #   Column            Non-Null Count  Dtype  \n",
      "---  ------            --------------  -----  \n",
      " 0   customerID        7043 non-null   object \n",
      " 1   tenure            7043 non-null   int64  \n",
      " 2   Contract          7043 non-null   object \n",
      " 3   PaperlessBilling  7043 non-null   object \n",
      " 4   PaymentMethod     7043 non-null   object \n",
      " 5   MonthlyCharges    7043 non-null   float64\n",
      " 6   TotalCharges      7032 non-null   float64\n",
      " 7   Churn             7043 non-null   object \n",
      "dtypes: float64(2), int64(1), object(5)\n",
      "memory usage: 440.3+ KB\n"
     ]
    }
   ],
   "source": [
    "# Transformar coluna TotalCharges para float\n",
    "df_contratos['TotalCharges'] = pd.to_numeric(df_contratos['TotalCharges'], errors='coerce')\n",
    "# Visualizar as informações do dataframe\n",
    "print(f\"Informações do dataframe de clientes:\\n\")\n",
    "df_contratos.info()"
   ]
  },
  {
   "cell_type": "code",
   "execution_count": 36,
   "metadata": {},
   "outputs": [
    {
     "name": "stdout",
     "output_type": "stream",
     "text": [
      "Valores nulos no dataframe de clientes:\n",
      "customerID       0\n",
      "gender           0\n",
      "SeniorCitizen    0\n",
      "Partner          0\n",
      "Dependents       0\n",
      "dtype: int64\n",
      "\n",
      "Valores nulos no dataframe de contratos:\n",
      "customerID           0\n",
      "tenure               0\n",
      "Contract             0\n",
      "PaperlessBilling     0\n",
      "PaymentMethod        0\n",
      "MonthlyCharges       0\n",
      "TotalCharges        11\n",
      "Churn                0\n",
      "dtype: int64\n",
      "\n",
      "Valores nulos no dataframe de serviços:\n",
      "customerID          0\n",
      "PhoneService        0\n",
      "MultipleLines       0\n",
      "InternetService     0\n",
      "OnlineSecurity      0\n",
      "OnlineBackup        0\n",
      "DeviceProtection    0\n",
      "TechSupport         0\n",
      "StreamingTV         0\n",
      "StreamingMovies     0\n",
      "dtype: int64\n",
      "\n"
     ]
    }
   ],
   "source": [
    "# Detectando valores nulos\n",
    "df_clientes_nulo = df_clientes.isnull().sum()\n",
    "df_contratos_nulo = df_contratos.isnull().sum()\n",
    "df_servicos_nulo = df_servicos.isnull().sum()\n",
    "\n",
    "# Visualizando os resultados\n",
    "print(f\"Valores nulos no dataframe de clientes:\\n{df_clientes_nulo}\\n\")\n",
    "print(f\"Valores nulos no dataframe de contratos:\\n{df_contratos_nulo}\\n\")\n",
    "print(f\"Valores nulos no dataframe de serviços:\\n{df_servicos_nulo}\\n\")"
   ]
  },
  {
   "cell_type": "code",
   "execution_count": 37,
   "metadata": {},
   "outputs": [
    {
     "name": "stdout",
     "output_type": "stream",
     "text": [
      "Linhas com pelo menos um valor ausente:\n",
      "      customerID  tenure  Contract PaperlessBilling  \\\n",
      "488   4472-LVYGI       0  Two year              Yes   \n",
      "753   3115-CZMZD       0  Two year               No   \n",
      "936   5709-LVOEQ       0  Two year               No   \n",
      "1082  4367-NUYAO       0  Two year               No   \n",
      "1340  1371-DWPAZ       0  Two year               No   \n",
      "3331  7644-OMVMY       0  Two year               No   \n",
      "3826  3213-VVOLG       0  Two year               No   \n",
      "4380  2520-SGTTA       0  Two year               No   \n",
      "5218  2923-ARZLG       0  One year              Yes   \n",
      "6670  4075-WKNIU       0  Two year               No   \n",
      "6754  2775-SEFEE       0  Two year              Yes   \n",
      "\n",
      "                  PaymentMethod  MonthlyCharges  TotalCharges Churn  \n",
      "488   Bank transfer (automatic)           52.55           NaN    No  \n",
      "753                Mailed check           20.25           NaN    No  \n",
      "936                Mailed check           80.85           NaN    No  \n",
      "1082               Mailed check           25.75           NaN    No  \n",
      "1340    Credit card (automatic)           56.05           NaN    No  \n",
      "3331               Mailed check           19.85           NaN    No  \n",
      "3826               Mailed check           25.35           NaN    No  \n",
      "4380               Mailed check           20.00           NaN    No  \n",
      "5218               Mailed check           19.70           NaN    No  \n",
      "6670               Mailed check           73.35           NaN    No  \n",
      "6754  Bank transfer (automatic)           61.90           NaN    No  \n"
     ]
    }
   ],
   "source": [
    "# Linhas com pelo menos um valor ausente\n",
    "print(f\"Linhas com pelo menos um valor ausente:\\n{df_contratos[df_contratos.isna().any(axis=1)]}\")"
   ]
  },
  {
   "cell_type": "code",
   "execution_count": 38,
   "metadata": {},
   "outputs": [
    {
     "name": "stdout",
     "output_type": "stream",
     "text": [
      "Linhas com pelo menos um valor nulo:\n",
      "      customerID  tenure  Contract PaperlessBilling  \\\n",
      "488   4472-LVYGI       0  Two year              Yes   \n",
      "753   3115-CZMZD       0  Two year               No   \n",
      "936   5709-LVOEQ       0  Two year               No   \n",
      "1082  4367-NUYAO       0  Two year               No   \n",
      "1340  1371-DWPAZ       0  Two year               No   \n",
      "3331  7644-OMVMY       0  Two year               No   \n",
      "3826  3213-VVOLG       0  Two year               No   \n",
      "4380  2520-SGTTA       0  Two year               No   \n",
      "5218  2923-ARZLG       0  One year              Yes   \n",
      "6670  4075-WKNIU       0  Two year               No   \n",
      "6754  2775-SEFEE       0  Two year              Yes   \n",
      "\n",
      "                  PaymentMethod  MonthlyCharges  TotalCharges Churn  \n",
      "488   Bank transfer (automatic)           52.55           NaN    No  \n",
      "753                Mailed check           20.25           NaN    No  \n",
      "936                Mailed check           80.85           NaN    No  \n",
      "1082               Mailed check           25.75           NaN    No  \n",
      "1340    Credit card (automatic)           56.05           NaN    No  \n",
      "3331               Mailed check           19.85           NaN    No  \n",
      "3826               Mailed check           25.35           NaN    No  \n",
      "4380               Mailed check           20.00           NaN    No  \n",
      "5218               Mailed check           19.70           NaN    No  \n",
      "6670               Mailed check           73.35           NaN    No  \n",
      "6754  Bank transfer (automatic)           61.90           NaN    No  \n"
     ]
    }
   ],
   "source": [
    "# Linhas com pelo menos um valor nulo\n",
    "print(f\"Linhas com pelo menos um valor nulo:\\n{df_contratos[df_contratos.isnull().any(axis=1)]}\")"
   ]
  },
  {
   "cell_type": "code",
   "execution_count": 40,
   "metadata": {},
   "outputs": [
    {
     "name": "stdout",
     "output_type": "stream",
     "text": [
      "Linhas com pelo menos um valor igual a 25.75:\n",
      "      customerID  tenure        Contract PaperlessBilling  \\\n",
      "1082  4367-NUYAO       0        Two year               No   \n",
      "1531  7107-UBYKY      35  Month-to-month              Yes   \n",
      "2199  8532-UEFWH      52        Two year               No   \n",
      "2883  7225-IILWY      68        Two year               No   \n",
      "2930  5322-ZSMZY      31        Two year               No   \n",
      "4275  2692-PFYTJ       1  Month-to-month              Yes   \n",
      "6226  2097-YVPKN      65        Two year               No   \n",
      "6719  2509-TFPJU      72        Two year               No   \n",
      "\n",
      "                PaymentMethod  MonthlyCharges  TotalCharges Churn  \n",
      "1082             Mailed check           25.75           NaN    No  \n",
      "1531         Electronic check           25.75        882.55    No  \n",
      "2199             Mailed check           25.75       1345.85    No  \n",
      "2883             Mailed check           25.75       1686.15    No  \n",
      "2930             Mailed check           25.75        755.60    No  \n",
      "4275             Mailed check           25.75         25.75    No  \n",
      "6226             Mailed check           25.75       1654.75    No  \n",
      "6719  Credit card (automatic)           25.75       1864.20    No  \n"
     ]
    }
   ],
   "source": [
    "# Linhas com pelo menos um valor igual a 25.75\n",
    "print(f\"Linhas com pelo menos um valor igual a 25.75:\\n{df_contratos[df_contratos['MonthlyCharges'] == 25.75]}\")"
   ]
  },
  {
   "cell_type": "code",
   "execution_count": 41,
   "metadata": {},
   "outputs": [
    {
     "name": "stdout",
     "output_type": "stream",
     "text": [
      "Quantas colunas tem pelo menos um valor ausente:\n",
      "1\n"
     ]
    }
   ],
   "source": [
    "# Quantas colunas tem pelo menos um valor ausente?\n",
    "print(f\"Quantas colunas tem pelo menos um valor ausente:\\n{df_contratos.isna().any(axis=0).sum()}\")"
   ]
  },
  {
   "cell_type": "markdown",
   "metadata": {},
   "source": [
    "## Remover Valores Ausentes"
   ]
  },
  {
   "cell_type": "code",
   "execution_count": 46,
   "metadata": {},
   "outputs": [
    {
     "name": "stdout",
     "output_type": "stream",
     "text": [
      "\n",
      "#----------------------------------------------------------#\n",
      "\n",
      "Removendo colunas com pelo menos um valor ausente:\n",
      "      customerID  tenure        Contract PaperlessBilling  \\\n",
      "0     7590-VHVEG       1  Month-to-month              Yes   \n",
      "1     5575-GNVDE      34        One year               No   \n",
      "2     3668-QPYBK       2  Month-to-month              Yes   \n",
      "3     7795-CFOCW      45        One year               No   \n",
      "4     9237-HQITU       2  Month-to-month              Yes   \n",
      "...          ...     ...             ...              ...   \n",
      "7038  6840-RESVB      24        One year              Yes   \n",
      "7039  2234-XADUH      72        One year              Yes   \n",
      "7040  4801-JZAZL      11  Month-to-month              Yes   \n",
      "7041  8361-LTMKD       4  Month-to-month              Yes   \n",
      "7042  3186-AJIEK      66        Two year              Yes   \n",
      "\n",
      "                  PaymentMethod  MonthlyCharges Churn  \n",
      "0              Electronic check           29.85    No  \n",
      "1                  Mailed check           56.95    No  \n",
      "2                  Mailed check           53.85   Yes  \n",
      "3     Bank transfer (automatic)           42.30    No  \n",
      "4              Electronic check           70.70   Yes  \n",
      "...                         ...             ...   ...  \n",
      "7038               Mailed check           84.80    No  \n",
      "7039    Credit card (automatic)          103.20    No  \n",
      "7040           Electronic check           29.60    No  \n",
      "7041               Mailed check           74.40   Yes  \n",
      "7042  Bank transfer (automatic)          105.65    No  \n",
      "\n",
      "[7043 rows x 7 columns]\n",
      "\n",
      "#----------------------------------------------------------#\n",
      "\n",
      "Removendo linhas com pelo menos um valor ausente:\n",
      "      customerID  tenure        Contract PaperlessBilling  \\\n",
      "0     7590-VHVEG       1  Month-to-month              Yes   \n",
      "1     5575-GNVDE      34        One year               No   \n",
      "2     3668-QPYBK       2  Month-to-month              Yes   \n",
      "3     7795-CFOCW      45        One year               No   \n",
      "4     9237-HQITU       2  Month-to-month              Yes   \n",
      "...          ...     ...             ...              ...   \n",
      "7038  6840-RESVB      24        One year              Yes   \n",
      "7039  2234-XADUH      72        One year              Yes   \n",
      "7040  4801-JZAZL      11  Month-to-month              Yes   \n",
      "7041  8361-LTMKD       4  Month-to-month              Yes   \n",
      "7042  3186-AJIEK      66        Two year              Yes   \n",
      "\n",
      "                  PaymentMethod  MonthlyCharges  TotalCharges Churn  \n",
      "0              Electronic check           29.85         29.85    No  \n",
      "1                  Mailed check           56.95       1889.50    No  \n",
      "2                  Mailed check           53.85        108.15   Yes  \n",
      "3     Bank transfer (automatic)           42.30       1840.75    No  \n",
      "4              Electronic check           70.70        151.65   Yes  \n",
      "...                         ...             ...           ...   ...  \n",
      "7038               Mailed check           84.80       1990.50    No  \n",
      "7039    Credit card (automatic)          103.20       7362.90    No  \n",
      "7040           Electronic check           29.60        346.45    No  \n",
      "7041               Mailed check           74.40        306.60   Yes  \n",
      "7042  Bank transfer (automatic)          105.65       6844.50    No  \n",
      "\n",
      "[7032 rows x 8 columns]\n",
      "\n",
      "#----------------------------------------------------------#\n",
      "\n",
      "Removendo colunas com todos os valores ausentes:\n",
      "      customerID  tenure        Contract PaperlessBilling  \\\n",
      "0     7590-VHVEG       1  Month-to-month              Yes   \n",
      "1     5575-GNVDE      34        One year               No   \n",
      "2     3668-QPYBK       2  Month-to-month              Yes   \n",
      "3     7795-CFOCW      45        One year               No   \n",
      "4     9237-HQITU       2  Month-to-month              Yes   \n",
      "...          ...     ...             ...              ...   \n",
      "7038  6840-RESVB      24        One year              Yes   \n",
      "7039  2234-XADUH      72        One year              Yes   \n",
      "7040  4801-JZAZL      11  Month-to-month              Yes   \n",
      "7041  8361-LTMKD       4  Month-to-month              Yes   \n",
      "7042  3186-AJIEK      66        Two year              Yes   \n",
      "\n",
      "                  PaymentMethod  MonthlyCharges  TotalCharges Churn  \n",
      "0              Electronic check           29.85         29.85    No  \n",
      "1                  Mailed check           56.95       1889.50    No  \n",
      "2                  Mailed check           53.85        108.15   Yes  \n",
      "3     Bank transfer (automatic)           42.30       1840.75    No  \n",
      "4              Electronic check           70.70        151.65   Yes  \n",
      "...                         ...             ...           ...   ...  \n",
      "7038               Mailed check           84.80       1990.50    No  \n",
      "7039    Credit card (automatic)          103.20       7362.90    No  \n",
      "7040           Electronic check           29.60        346.45    No  \n",
      "7041               Mailed check           74.40        306.60   Yes  \n",
      "7042  Bank transfer (automatic)          105.65       6844.50    No  \n",
      "\n",
      "[7043 rows x 8 columns]\n",
      "\n",
      "#----------------------------------------------------------#\n",
      "\n",
      "Removendo linhas com todos os valores ausentes:\n",
      "      customerID  tenure        Contract PaperlessBilling  \\\n",
      "0     7590-VHVEG       1  Month-to-month              Yes   \n",
      "1     5575-GNVDE      34        One year               No   \n",
      "2     3668-QPYBK       2  Month-to-month              Yes   \n",
      "3     7795-CFOCW      45        One year               No   \n",
      "4     9237-HQITU       2  Month-to-month              Yes   \n",
      "...          ...     ...             ...              ...   \n",
      "7038  6840-RESVB      24        One year              Yes   \n",
      "7039  2234-XADUH      72        One year              Yes   \n",
      "7040  4801-JZAZL      11  Month-to-month              Yes   \n",
      "7041  8361-LTMKD       4  Month-to-month              Yes   \n",
      "7042  3186-AJIEK      66        Two year              Yes   \n",
      "\n",
      "                  PaymentMethod  MonthlyCharges  TotalCharges Churn  \n",
      "0              Electronic check           29.85         29.85    No  \n",
      "1                  Mailed check           56.95       1889.50    No  \n",
      "2                  Mailed check           53.85        108.15   Yes  \n",
      "3     Bank transfer (automatic)           42.30       1840.75    No  \n",
      "4              Electronic check           70.70        151.65   Yes  \n",
      "...                         ...             ...           ...   ...  \n",
      "7038               Mailed check           84.80       1990.50    No  \n",
      "7039    Credit card (automatic)          103.20       7362.90    No  \n",
      "7040           Electronic check           29.60        346.45    No  \n",
      "7041               Mailed check           74.40        306.60   Yes  \n",
      "7042  Bank transfer (automatic)          105.65       6844.50    No  \n",
      "\n",
      "[7043 rows x 8 columns]\n"
     ]
    }
   ],
   "source": [
    "# Remover colunas com pelo menos um valor ausente\n",
    "print(\"\\n#----------------------------------------------------------#\")\n",
    "print(\"\\nRemovendo colunas com pelo menos um valor ausente:\")\n",
    "print(df_contratos.drop(columns=['TotalCharges'], axis=1))\n",
    "print(\"\\n#----------------------------------------------------------#\")\n",
    "print(\"\\nRemovendo linhas com pelo menos um valor ausente:\")\n",
    "print(df_contratos.dropna(axis=0))\n",
    "print(\"\\n#----------------------------------------------------------#\")\n",
    "print(\"\\nRemovendo colunas com todos os valores ausentes:\")\n",
    "print(df_contratos.dropna(axis=1, how='all'))\n",
    "print(\"\\n#----------------------------------------------------------#\")\n",
    "print(\"\\nRemovendo linhas com todos os valores ausentes:\")\n",
    "print(df_contratos.dropna(axis=0, how='all'))"
   ]
  },
  {
   "cell_type": "markdown",
   "metadata": {},
   "source": [
    "## Imputação de Valores Ausentes"
   ]
  },
  {
   "cell_type": "code",
   "execution_count": 47,
   "metadata": {},
   "outputs": [],
   "source": [
    "# Preencher valores ausentes com a média da coluna\n",
    "df_contratos['TotalCharges'] = df_contratos['TotalCharges'].fillna(df_contratos['TotalCharges'].mean())\n",
    "\n",
    "# Preencher valores ausentes com a mediana da coluna\n",
    "df_contratos['TotalCharges'] = df_contratos['TotalCharges'].fillna(df_contratos['TotalCharges'].median())\n",
    "\n",
    "# Preencher valores ausentes com a moda da coluna\n",
    "df_contratos['TotalCharges'] = df_contratos['TotalCharges'].fillna(df_contratos['TotalCharges'].mode()[0])\n",
    "\n",
    "# Preencher valores ausentes com um valor específico\n",
    "valor_especifico = 0\n",
    "df_contratos['TotalCharges'] = df_contratos['TotalCharges'].fillna(valor_especifico)"
   ]
  }
 ],
 "metadata": {
  "kernelspec": {
   "display_name": "analise_exploratoria-mLN5YKDd",
   "language": "python",
   "name": "python3"
  },
  "language_info": {
   "codemirror_mode": {
    "name": "ipython",
    "version": 3
   },
   "file_extension": ".py",
   "mimetype": "text/x-python",
   "name": "python",
   "nbconvert_exporter": "python",
   "pygments_lexer": "ipython3",
   "version": "3.11.7"
  }
 },
 "nbformat": 4,
 "nbformat_minor": 2
}
