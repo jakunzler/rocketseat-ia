{
 "cells": [
  {
   "cell_type": "markdown",
   "id": "b2b11164",
   "metadata": {},
   "source": [
    "# Desafio - EDA"
   ]
  },
  {
   "cell_type": "markdown",
   "id": "da802507",
   "metadata": {},
   "source": [
    "Com base no módulo de Análise Exploratória de Dados, deve-se analisar o seguinte conjunto de dados disponível no link:\n",
    "\n",
    "[Ranking Netflix](https://efficient-sloth-d85.notion.site/signed/https%3A%2F%2Fprod-files-secure.s3.us-west-2.amazonaws.com%2F08f749ff-d06d-49a8-a488-9846e081b224%2F2dc4ff7c-99f5-4b66-84ba-5c8714c90623%2Fnetflix_daily_top_10.csv?table=block&id=f028d311-1226-479d-89d2-8d7b38302567&spaceId=08f749ff-d06d-49a8-a488-9846e081b224&name=netflix%20daily%20top%2010.csv&cache=v2)\n",
    "\n",
    "Este conjunto de dados contém informações sobre os filmes e séries mais populares do Netflix em um determinado período.\n",
    "\n",
    "O objetivo deste desafio é analisar e extrair as informações:\n",
    "\n",
    "- Tipos de dados disponíveis\n",
    "- Período da análise feita\n",
    "- Tamanho da base de dados\n",
    "- Verificar dados nulos\n",
    "- Outliers"
   ]
  },
  {
   "cell_type": "code",
   "execution_count": null,
   "id": "645dc597",
   "metadata": {},
   "outputs": [],
   "source": [
    "# Importa pacotes de sistema\n",
    "\n",
    "import os\n",
    "from datetime import datetime, timezone"
   ]
  },
  {
   "cell_type": "code",
   "execution_count": null,
   "id": "6918fe69",
   "metadata": {},
   "outputs": [],
   "source": [
    "# Pacotes e bibliotecas\n",
    "\n",
    "import pandas as pd\n",
    "import numpy as np\n",
    "import matplotlib.pyplot as plt\n",
    "import seaborn as sns\n"
   ]
  },
  {
   "cell_type": "markdown",
   "id": "10b96656",
   "metadata": {},
   "source": [
    "## Carregando os dados"
   ]
  },
  {
   "cell_type": "code",
   "execution_count": null,
   "id": "46958f44",
   "metadata": {},
   "outputs": [],
   "source": [
    "# Usa-se a função pd.read_csv() para carregar o arquivo csv\n",
    "path_to_file = os.path.join(\"dataset\", \"netflix_daily_top_10.csv\")\n",
    "\n",
    "df = pd.read_csv(path_to_file)"
   ]
  },
  {
   "cell_type": "code",
   "execution_count": null,
   "id": "2c925111",
   "metadata": {},
   "outputs": [],
   "source": [
    "# Exibe as primeiras linhas do dataframe\n",
    "df.head()"
   ]
  },
  {
   "cell_type": "code",
   "execution_count": null,
   "id": "182ddaa4",
   "metadata": {},
   "outputs": [],
   "source": [
    "\n",
    "# Exibe as últimas linhas do dataframe\n",
    "df.tail()"
   ]
  },
  {
   "cell_type": "markdown",
   "id": "1ec53a61",
   "metadata": {},
   "source": [
    "## Procedimentos para atender os critérios do desafio\n",
    "\n",
    "Deve-se apresentar:\n",
    "\n",
    "- Tipos de dados disponíveis\n",
    "- Período da análise feita\n",
    "- Tamanho da base de dados\n",
    "- Verificar dados nulos\n",
    "- Outliers"
   ]
  },
  {
   "cell_type": "markdown",
   "id": "b7e53155",
   "metadata": {},
   "source": [
    "### Tipos de dados disponíveis"
   ]
  },
  {
   "cell_type": "code",
   "execution_count": null,
   "id": "ebf1f7ba",
   "metadata": {},
   "outputs": [],
   "source": [
    "# Obter tipos de dados disponíveis para as colunas do dataframe\n",
    "df.info()"
   ]
  },
  {
   "cell_type": "code",
   "execution_count": 31,
   "id": "21f956e4",
   "metadata": {},
   "outputs": [
    {
     "ename": "IndexError",
     "evalue": "only integers, slices (`:`), ellipsis (`...`), numpy.newaxis (`None`) and integer or boolean arrays are valid indices",
     "output_type": "error",
     "traceback": [
      "\u001b[31m---------------------------------------------------------------------------\u001b[39m",
      "\u001b[31mIndexError\u001b[39m                                Traceback (most recent call last)",
      "\u001b[36mCell\u001b[39m\u001b[36m \u001b[39m\u001b[32mIn[31]\u001b[39m\u001b[32m, line 2\u001b[39m\n\u001b[32m      1\u001b[39m \u001b[38;5;66;03m# Verificar o período em que os dados foram armazenados\u001b[39;00m\n\u001b[32m----> \u001b[39m\u001b[32m2\u001b[39m date_column = [datetime(x) \u001b[38;5;28;01mfor\u001b[39;00m x \u001b[38;5;129;01min\u001b[39;00m \u001b[43mdf\u001b[49m\u001b[43m.\u001b[49m\u001b[43mcolumns\u001b[49m\u001b[43m[\u001b[49m\u001b[33;43m'\u001b[39;49m\u001b[33;43mAs of\u001b[39;49m\u001b[33;43m'\u001b[39;49m\u001b[43m]\u001b[49m]\n\u001b[32m      3\u001b[39m oldest_record = df[date_column].min()\n\u001b[32m      4\u001b[39m newest_record = df[date_column].max()\n",
      "\u001b[36mFile \u001b[39m\u001b[32m~/.local/share/virtualenvs/analise_exploratoria-mLN5YKDd/lib/python3.11/site-packages/pandas/core/indexes/base.py:5428\u001b[39m, in \u001b[36mIndex.__getitem__\u001b[39m\u001b[34m(self, key)\u001b[39m\n\u001b[32m   5419\u001b[39m         \u001b[38;5;28;01mif\u001b[39;00m \u001b[38;5;28mlen\u001b[39m(key) == \u001b[32m0\u001b[39m \u001b[38;5;129;01mand\u001b[39;00m \u001b[38;5;28mlen\u001b[39m(key) != \u001b[38;5;28mlen\u001b[39m(\u001b[38;5;28mself\u001b[39m):\n\u001b[32m   5420\u001b[39m             warnings.warn(\n\u001b[32m   5421\u001b[39m                 \u001b[33m\"\u001b[39m\u001b[33mUsing a boolean indexer with length 0 on an Index with \u001b[39m\u001b[33m\"\u001b[39m\n\u001b[32m   5422\u001b[39m                 \u001b[33m\"\u001b[39m\u001b[33mlength greater than 0 is deprecated and will raise in a \u001b[39m\u001b[33m\"\u001b[39m\n\u001b[32m   (...)\u001b[39m\u001b[32m   5425\u001b[39m                 stacklevel=find_stack_level(),\n\u001b[32m   5426\u001b[39m             )\n\u001b[32m-> \u001b[39m\u001b[32m5428\u001b[39m result = \u001b[43mgetitem\u001b[49m\u001b[43m(\u001b[49m\u001b[43mkey\u001b[49m\u001b[43m)\u001b[49m\n\u001b[32m   5429\u001b[39m \u001b[38;5;66;03m# Because we ruled out integer above, we always get an arraylike here\u001b[39;00m\n\u001b[32m   5430\u001b[39m \u001b[38;5;28;01mif\u001b[39;00m result.ndim > \u001b[32m1\u001b[39m:\n",
      "\u001b[31mIndexError\u001b[39m: only integers, slices (`:`), ellipsis (`...`), numpy.newaxis (`None`) and integer or boolean arrays are valid indices"
     ]
    }
   ],
   "source": [
    "# Verificar o período em que os dados foram armazenados\n",
    "date_column = [datetime(x) for x in df.columns['As of']]\n",
    "oldest_record = df[date_column].min()\n",
    "newest_record = df[date_column].max()\n",
    "\n",
    "print(f\"Período de análise: {oldest_record} a {newest_record}\")\n",
    "# Verificar o tamanho da base de dados\n",
    "df.shape\n",
    "# Verificar dados nulos\n",
    "df.isnull().sum()\n",
    "# Verificar outliers"
   ]
  },
  {
   "cell_type": "code",
   "execution_count": null,
   "id": "e50936ec",
   "metadata": {},
   "outputs": [],
   "source": []
  }
 ],
 "metadata": {
  "kernelspec": {
   "display_name": "analise_exploratoria-mLN5YKDd",
   "language": "python",
   "name": "python3"
  },
  "language_info": {
   "codemirror_mode": {
    "name": "ipython",
    "version": 3
   },
   "file_extension": ".py",
   "mimetype": "text/x-python",
   "name": "python",
   "nbconvert_exporter": "python",
   "pygments_lexer": "ipython3",
   "version": "3.11.7"
  }
 },
 "nbformat": 4,
 "nbformat_minor": 5
}
