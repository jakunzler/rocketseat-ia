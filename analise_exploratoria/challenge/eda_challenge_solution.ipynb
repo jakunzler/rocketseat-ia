{
 "cells": [
  {
   "cell_type": "markdown",
   "id": "b2b11164",
   "metadata": {},
   "source": [
    "# Desafio - EDA"
   ]
  },
  {
   "cell_type": "markdown",
   "id": "da802507",
   "metadata": {},
   "source": [
    "Com base no módulo de Análise Exploratória de Dados, deve-se analisar o seguinte conjunto de dados disponível no link:\n",
    "\n",
    "[Ranking Netflix](https://efficient-sloth-d85.notion.site/signed/https%3A%2F%2Fprod-files-secure.s3.us-west-2.amazonaws.com%2F08f749ff-d06d-49a8-a488-9846e081b224%2F2dc4ff7c-99f5-4b66-84ba-5c8714c90623%2Fnetflix_daily_top_10.csv?table=block&id=f028d311-1226-479d-89d2-8d7b38302567&spaceId=08f749ff-d06d-49a8-a488-9846e081b224&name=netflix%20daily%20top%2010.csv&cache=v2)\n",
    "\n",
    "Este conjunto de dados contém informações sobre os filmes e séries mais populares do Netflix em um determinado período.\n",
    "\n",
    "O objetivo deste desafio é analisar e extrair as informações:\n",
    "\n",
    "- Tipos de dados disponíveis\n",
    "- Período da análise feita\n",
    "- Tamanho da base de dados\n",
    "- Verificar dados nulos\n",
    "- Outliers"
   ]
  },
  {
   "cell_type": "code",
   "execution_count": 1,
   "id": "645dc597",
   "metadata": {},
   "outputs": [],
   "source": [
    "# Importa pacotes de sistema\n",
    "\n",
    "import os"
   ]
  },
  {
   "cell_type": "code",
   "execution_count": null,
   "id": "6918fe69",
   "metadata": {},
   "outputs": [
    {
     "name": "stderr",
     "output_type": "stream",
     "text": [
      "/home/jakunzler/.local/share/virtualenvs/analise_exploratoria-mLN5YKDd/lib/python3.11/site-packages/tqdm/auto.py:21: TqdmWarning: IProgress not found. Please update jupyter and ipywidgets. See https://ipywidgets.readthedocs.io/en/stable/user_install.html\n",
      "  from .autonotebook import tqdm as notebook_tqdm\n"
     ]
    }
   ],
   "source": [
    "# Pacotes e bibliotecas\n",
    "\n",
    "import pandas as pd\n",
    "import numpy as np\n",
    "import matplotlib.pyplot as plt\n",
    "import seaborn as sns\n",
    "import sweetviz as sv"
   ]
  },
  {
   "cell_type": "markdown",
   "id": "10b96656",
   "metadata": {},
   "source": [
    "## Carregando os dados"
   ]
  },
  {
   "cell_type": "code",
   "execution_count": 3,
   "id": "46958f44",
   "metadata": {},
   "outputs": [],
   "source": [
    "# Usa-se a função pd.read_csv() para carregar o arquivo csv\n",
    "path_to_file = os.path.join(\"dataset\", \"netflix_daily_top_10.csv\")\n",
    "\n",
    "df = pd.read_csv(path_to_file)"
   ]
  },
  {
   "cell_type": "code",
   "execution_count": 4,
   "id": "2c925111",
   "metadata": {},
   "outputs": [
    {
     "data": {
      "text/html": [
       "<div>\n",
       "<style scoped>\n",
       "    .dataframe tbody tr th:only-of-type {\n",
       "        vertical-align: middle;\n",
       "    }\n",
       "\n",
       "    .dataframe tbody tr th {\n",
       "        vertical-align: top;\n",
       "    }\n",
       "\n",
       "    .dataframe thead th {\n",
       "        text-align: right;\n",
       "    }\n",
       "</style>\n",
       "<table border=\"1\" class=\"dataframe\">\n",
       "  <thead>\n",
       "    <tr style=\"text-align: right;\">\n",
       "      <th></th>\n",
       "      <th>As of</th>\n",
       "      <th>Rank</th>\n",
       "      <th>Year to Date Rank</th>\n",
       "      <th>Last Week Rank</th>\n",
       "      <th>Title</th>\n",
       "      <th>Type</th>\n",
       "      <th>Netflix Exclusive</th>\n",
       "      <th>Netflix Release Date</th>\n",
       "      <th>Days In Top 10</th>\n",
       "      <th>Viewership Score</th>\n",
       "    </tr>\n",
       "  </thead>\n",
       "  <tbody>\n",
       "    <tr>\n",
       "      <th>0</th>\n",
       "      <td>2020-04-01</td>\n",
       "      <td>1</td>\n",
       "      <td>1</td>\n",
       "      <td>1</td>\n",
       "      <td>Tiger King: Murder, Mayhem …</td>\n",
       "      <td>TV Show</td>\n",
       "      <td>Yes</td>\n",
       "      <td>Mar 20, 2020</td>\n",
       "      <td>9</td>\n",
       "      <td>90</td>\n",
       "    </tr>\n",
       "    <tr>\n",
       "      <th>1</th>\n",
       "      <td>2020-04-01</td>\n",
       "      <td>2</td>\n",
       "      <td>2</td>\n",
       "      <td>-</td>\n",
       "      <td>Ozark</td>\n",
       "      <td>TV Show</td>\n",
       "      <td>Yes</td>\n",
       "      <td>Jul 21, 2017</td>\n",
       "      <td>5</td>\n",
       "      <td>45</td>\n",
       "    </tr>\n",
       "    <tr>\n",
       "      <th>2</th>\n",
       "      <td>2020-04-01</td>\n",
       "      <td>3</td>\n",
       "      <td>3</td>\n",
       "      <td>2</td>\n",
       "      <td>All American</td>\n",
       "      <td>TV Show</td>\n",
       "      <td>NaN</td>\n",
       "      <td>Mar 28, 2019</td>\n",
       "      <td>9</td>\n",
       "      <td>76</td>\n",
       "    </tr>\n",
       "    <tr>\n",
       "      <th>3</th>\n",
       "      <td>2020-04-01</td>\n",
       "      <td>4</td>\n",
       "      <td>4</td>\n",
       "      <td>-</td>\n",
       "      <td>Blood Father</td>\n",
       "      <td>Movie</td>\n",
       "      <td>NaN</td>\n",
       "      <td>Mar 26, 2020</td>\n",
       "      <td>5</td>\n",
       "      <td>30</td>\n",
       "    </tr>\n",
       "    <tr>\n",
       "      <th>4</th>\n",
       "      <td>2020-04-01</td>\n",
       "      <td>5</td>\n",
       "      <td>5</td>\n",
       "      <td>4</td>\n",
       "      <td>The Platform</td>\n",
       "      <td>Movie</td>\n",
       "      <td>Yes</td>\n",
       "      <td>Mar 20, 2020</td>\n",
       "      <td>9</td>\n",
       "      <td>55</td>\n",
       "    </tr>\n",
       "  </tbody>\n",
       "</table>\n",
       "</div>"
      ],
      "text/plain": [
       "        As of  Rank Year to Date Rank Last Week Rank  \\\n",
       "0  2020-04-01     1                 1              1   \n",
       "1  2020-04-01     2                 2              -   \n",
       "2  2020-04-01     3                 3              2   \n",
       "3  2020-04-01     4                 4              -   \n",
       "4  2020-04-01     5                 5              4   \n",
       "\n",
       "                          Title     Type Netflix Exclusive  \\\n",
       "0  Tiger King: Murder, Mayhem …  TV Show               Yes   \n",
       "1                         Ozark  TV Show               Yes   \n",
       "2                  All American  TV Show               NaN   \n",
       "3                  Blood Father    Movie               NaN   \n",
       "4                  The Platform    Movie               Yes   \n",
       "\n",
       "  Netflix Release Date  Days In Top 10  Viewership Score  \n",
       "0         Mar 20, 2020               9                90  \n",
       "1         Jul 21, 2017               5                45  \n",
       "2         Mar 28, 2019               9                76  \n",
       "3         Mar 26, 2020               5                30  \n",
       "4         Mar 20, 2020               9                55  "
      ]
     },
     "execution_count": 4,
     "metadata": {},
     "output_type": "execute_result"
    }
   ],
   "source": [
    "# Exibe as primeiras linhas do dataframe\n",
    "df.head()"
   ]
  },
  {
   "cell_type": "code",
   "execution_count": null,
   "id": "182ddaa4",
   "metadata": {},
   "outputs": [
    {
     "data": {
      "text/html": [
       "<div>\n",
       "<style scoped>\n",
       "    .dataframe tbody tr th:only-of-type {\n",
       "        vertical-align: middle;\n",
       "    }\n",
       "\n",
       "    .dataframe tbody tr th {\n",
       "        vertical-align: top;\n",
       "    }\n",
       "\n",
       "    .dataframe thead th {\n",
       "        text-align: right;\n",
       "    }\n",
       "</style>\n",
       "<table border=\"1\" class=\"dataframe\">\n",
       "  <thead>\n",
       "    <tr style=\"text-align: right;\">\n",
       "      <th></th>\n",
       "      <th>As of</th>\n",
       "      <th>Rank</th>\n",
       "      <th>Year to Date Rank</th>\n",
       "      <th>Last Week Rank</th>\n",
       "      <th>Title</th>\n",
       "      <th>Type</th>\n",
       "      <th>Netflix Exclusive</th>\n",
       "      <th>Netflix Release Date</th>\n",
       "      <th>Days In Top 10</th>\n",
       "      <th>Viewership Score</th>\n",
       "    </tr>\n",
       "  </thead>\n",
       "  <tbody>\n",
       "    <tr>\n",
       "      <th>7095</th>\n",
       "      <td>2022-03-11</td>\n",
       "      <td>6</td>\n",
       "      <td>5</td>\n",
       "      <td>1</td>\n",
       "      <td>Worst Roommate Ever</td>\n",
       "      <td>TV Show</td>\n",
       "      <td>Yes</td>\n",
       "      <td>Mar 1, 2022</td>\n",
       "      <td>10</td>\n",
       "      <td>81</td>\n",
       "    </tr>\n",
       "    <tr>\n",
       "      <th>7096</th>\n",
       "      <td>2022-03-11</td>\n",
       "      <td>7</td>\n",
       "      <td>7</td>\n",
       "      <td>2</td>\n",
       "      <td>Vikings: Valhalla</td>\n",
       "      <td>TV Show</td>\n",
       "      <td>Yes</td>\n",
       "      <td>Feb 25, 2022</td>\n",
       "      <td>14</td>\n",
       "      <td>100</td>\n",
       "    </tr>\n",
       "    <tr>\n",
       "      <th>7097</th>\n",
       "      <td>2022-03-11</td>\n",
       "      <td>8</td>\n",
       "      <td>8</td>\n",
       "      <td>-</td>\n",
       "      <td>Shooter</td>\n",
       "      <td>Movie</td>\n",
       "      <td>NaN</td>\n",
       "      <td>Aug 1, 2014</td>\n",
       "      <td>3</td>\n",
       "      <td>7</td>\n",
       "    </tr>\n",
       "    <tr>\n",
       "      <th>7098</th>\n",
       "      <td>2022-03-11</td>\n",
       "      <td>9</td>\n",
       "      <td>9</td>\n",
       "      <td>7</td>\n",
       "      <td>Shrek 2</td>\n",
       "      <td>Movie</td>\n",
       "      <td>NaN</td>\n",
       "      <td>Mar 1, 2022</td>\n",
       "      <td>10</td>\n",
       "      <td>33</td>\n",
       "    </tr>\n",
       "    <tr>\n",
       "      <th>7099</th>\n",
       "      <td>2022-03-11</td>\n",
       "      <td>10</td>\n",
       "      <td>10</td>\n",
       "      <td>-</td>\n",
       "      <td>Shrek</td>\n",
       "      <td>Movie</td>\n",
       "      <td>NaN</td>\n",
       "      <td>May 1, 2018</td>\n",
       "      <td>7</td>\n",
       "      <td>12</td>\n",
       "    </tr>\n",
       "  </tbody>\n",
       "</table>\n",
       "</div>"
      ],
      "text/plain": [
       "           As of  Rank Year to Date Rank Last Week Rank                Title  \\\n",
       "7095  2022-03-11     6                 5              1  Worst Roommate Ever   \n",
       "7096  2022-03-11     7                 7              2    Vikings: Valhalla   \n",
       "7097  2022-03-11     8                 8              -              Shooter   \n",
       "7098  2022-03-11     9                 9              7              Shrek 2   \n",
       "7099  2022-03-11    10                10              -                Shrek   \n",
       "\n",
       "         Type Netflix Exclusive Netflix Release Date  Days In Top 10  \\\n",
       "7095  TV Show               Yes          Mar 1, 2022              10   \n",
       "7096  TV Show               Yes         Feb 25, 2022              14   \n",
       "7097    Movie               NaN          Aug 1, 2014               3   \n",
       "7098    Movie               NaN          Mar 1, 2022              10   \n",
       "7099    Movie               NaN          May 1, 2018               7   \n",
       "\n",
       "      Viewership Score  \n",
       "7095                81  \n",
       "7096               100  \n",
       "7097                 7  \n",
       "7098                33  \n",
       "7099                12  "
      ]
     },
     "execution_count": 5,
     "metadata": {},
     "output_type": "execute_result"
    }
   ],
   "source": [
    "# Exibe as últimas linhas do dataframe\n",
    "df.tail()"
   ]
  },
  {
   "cell_type": "markdown",
   "id": "1ec53a61",
   "metadata": {},
   "source": [
    "## Procedimentos para atender os critérios do desafio\n",
    "\n",
    "Deve-se apresentar:\n",
    "\n",
    "- Tipos de dados disponíveis\n",
    "- Período da análise feita\n",
    "- Tamanho da base de dados\n",
    "- Verificar dados nulos\n",
    "- Outliers"
   ]
  },
  {
   "cell_type": "markdown",
   "id": "b7e53155",
   "metadata": {},
   "source": [
    "### Tipos de dados disponíveis"
   ]
  },
  {
   "cell_type": "code",
   "execution_count": 6,
   "id": "ebf1f7ba",
   "metadata": {},
   "outputs": [
    {
     "name": "stdout",
     "output_type": "stream",
     "text": [
      "<class 'pandas.core.frame.DataFrame'>\n",
      "RangeIndex: 7100 entries, 0 to 7099\n",
      "Data columns (total 10 columns):\n",
      " #   Column                Non-Null Count  Dtype \n",
      "---  ------                --------------  ----- \n",
      " 0   As of                 7100 non-null   object\n",
      " 1   Rank                  7100 non-null   int64 \n",
      " 2   Year to Date Rank     7100 non-null   object\n",
      " 3   Last Week Rank        7100 non-null   object\n",
      " 4   Title                 7100 non-null   object\n",
      " 5   Type                  7100 non-null   object\n",
      " 6   Netflix Exclusive     4599 non-null   object\n",
      " 7   Netflix Release Date  7100 non-null   object\n",
      " 8   Days In Top 10        7100 non-null   int64 \n",
      " 9   Viewership Score      7100 non-null   int64 \n",
      "dtypes: int64(3), object(7)\n",
      "memory usage: 554.8+ KB\n"
     ]
    }
   ],
   "source": [
    "# Obter tipos de dados disponíveis para as colunas do dataframe\n",
    "df.info()"
   ]
  },
  {
   "cell_type": "code",
   "execution_count": 7,
   "id": "21f956e4",
   "metadata": {},
   "outputs": [
    {
     "data": {
      "text/plain": [
       "0       2020-04-01\n",
       "1       2020-04-01\n",
       "2       2020-04-01\n",
       "3       2020-04-01\n",
       "4       2020-04-01\n",
       "           ...    \n",
       "7095    2022-03-11\n",
       "7096    2022-03-11\n",
       "7097    2022-03-11\n",
       "7098    2022-03-11\n",
       "7099    2022-03-11\n",
       "Name: As of, Length: 7100, dtype: object"
      ]
     },
     "execution_count": 7,
     "metadata": {},
     "output_type": "execute_result"
    }
   ],
   "source": [
    "# Verificar o período em que os dados foram armazenados\n",
    "date_column = pd.to_datetime(df['As of'])\n",
    "date_column.dt.strftime(\"%Y-%m-%d\")"
   ]
  },
  {
   "cell_type": "code",
   "execution_count": 8,
   "id": "bab2dade",
   "metadata": {},
   "outputs": [
    {
     "name": "stdout",
     "output_type": "stream",
     "text": [
      "Período de análise: 2020-04-01 a 2022-03-11\n"
     ]
    }
   ],
   "source": [
    "# Obtendo o período de análise\n",
    "oldest_record = date_column.min()\n",
    "newest_record = date_column.max()\n",
    "\n",
    "print(f\"Período de análise: {oldest_record.strftime('%Y-%m-%d')} a {newest_record.strftime('%Y-%m-%d')}\")"
   ]
  },
  {
   "cell_type": "code",
   "execution_count": 9,
   "id": "c47cb8ae",
   "metadata": {},
   "outputs": [
    {
     "name": "stdout",
     "output_type": "stream",
     "text": [
      "(7100, 10)\n",
      "As of                      0\n",
      "Rank                       0\n",
      "Year to Date Rank          0\n",
      "Last Week Rank             0\n",
      "Title                      0\n",
      "Type                       0\n",
      "Netflix Exclusive       2501\n",
      "Netflix Release Date       0\n",
      "Days In Top 10             0\n",
      "Viewership Score           0\n",
      "dtype: int64\n",
      "As of                      0\n",
      "Rank                       0\n",
      "Year to Date Rank          0\n",
      "Last Week Rank             0\n",
      "Title                      0\n",
      "Type                       0\n",
      "Netflix Exclusive       2501\n",
      "Netflix Release Date       0\n",
      "Days In Top 10             0\n",
      "Viewership Score           0\n",
      "dtype: int64\n"
     ]
    }
   ],
   "source": [
    "# Verificar o tamanho da base de dados\n",
    "print(df.shape)\n",
    "# Verificar dados nulos\n",
    "print(df.isnull().sum())\n",
    "# Verificar dados NaN\n",
    "print(df.isna().sum())"
   ]
  },
  {
   "cell_type": "code",
   "execution_count": 10,
   "id": "4861bb08",
   "metadata": {},
   "outputs": [
    {
     "data": {
      "text/html": [
       "<div>\n",
       "<style scoped>\n",
       "    .dataframe tbody tr th:only-of-type {\n",
       "        vertical-align: middle;\n",
       "    }\n",
       "\n",
       "    .dataframe tbody tr th {\n",
       "        vertical-align: top;\n",
       "    }\n",
       "\n",
       "    .dataframe thead th {\n",
       "        text-align: right;\n",
       "    }\n",
       "</style>\n",
       "<table border=\"1\" class=\"dataframe\">\n",
       "  <thead>\n",
       "    <tr style=\"text-align: right;\">\n",
       "      <th></th>\n",
       "      <th>Rank</th>\n",
       "      <th>Days In Top 10</th>\n",
       "      <th>Viewership Score</th>\n",
       "    </tr>\n",
       "  </thead>\n",
       "  <tbody>\n",
       "    <tr>\n",
       "      <th>count</th>\n",
       "      <td>7100.000000</td>\n",
       "      <td>7100.000000</td>\n",
       "      <td>7100.000000</td>\n",
       "    </tr>\n",
       "    <tr>\n",
       "      <th>mean</th>\n",
       "      <td>5.500000</td>\n",
       "      <td>24.123662</td>\n",
       "      <td>122.790141</td>\n",
       "    </tr>\n",
       "    <tr>\n",
       "      <th>std</th>\n",
       "      <td>2.872484</td>\n",
       "      <td>58.473789</td>\n",
       "      <td>213.861642</td>\n",
       "    </tr>\n",
       "    <tr>\n",
       "      <th>min</th>\n",
       "      <td>1.000000</td>\n",
       "      <td>1.000000</td>\n",
       "      <td>1.000000</td>\n",
       "    </tr>\n",
       "    <tr>\n",
       "      <th>25%</th>\n",
       "      <td>3.000000</td>\n",
       "      <td>3.000000</td>\n",
       "      <td>19.000000</td>\n",
       "    </tr>\n",
       "    <tr>\n",
       "      <th>50%</th>\n",
       "      <td>5.500000</td>\n",
       "      <td>7.000000</td>\n",
       "      <td>50.000000</td>\n",
       "    </tr>\n",
       "    <tr>\n",
       "      <th>75%</th>\n",
       "      <td>8.000000</td>\n",
       "      <td>18.000000</td>\n",
       "      <td>128.000000</td>\n",
       "    </tr>\n",
       "    <tr>\n",
       "      <th>max</th>\n",
       "      <td>10.000000</td>\n",
       "      <td>428.000000</td>\n",
       "      <td>1474.000000</td>\n",
       "    </tr>\n",
       "  </tbody>\n",
       "</table>\n",
       "</div>"
      ],
      "text/plain": [
       "              Rank  Days In Top 10  Viewership Score\n",
       "count  7100.000000     7100.000000       7100.000000\n",
       "mean      5.500000       24.123662        122.790141\n",
       "std       2.872484       58.473789        213.861642\n",
       "min       1.000000        1.000000          1.000000\n",
       "25%       3.000000        3.000000         19.000000\n",
       "50%       5.500000        7.000000         50.000000\n",
       "75%       8.000000       18.000000        128.000000\n",
       "max      10.000000      428.000000       1474.000000"
      ]
     },
     "execution_count": 10,
     "metadata": {},
     "output_type": "execute_result"
    }
   ],
   "source": [
    "# Verificar outliers\n",
    "df.describe()"
   ]
  },
  {
   "cell_type": "code",
   "execution_count": 11,
   "id": "6df22163",
   "metadata": {},
   "outputs": [
    {
     "data": {
      "text/plain": [
       "<Axes: ylabel='Frequency'>"
      ]
     },
     "execution_count": 11,
     "metadata": {},
     "output_type": "execute_result"
    },
    {
     "data": {
      "image/png": "[encoded data removed]",
      "text/plain": [
       "<Figure size 640x480 with 1 Axes>"
      ]
     },
     "metadata": {},
     "output_type": "display_data"
    },
    {
     "data": {
      "image/png": "[encoded data removed]",
      "text/plain": [
       "<Figure size 640x480 with 1 Axes>"
      ]
     },
     "metadata": {},
     "output_type": "display_data"
    }
   ],
   "source": [
    "df.plot.box()\n",
    "df.plot.hist()"
   ]
  },
  {
   "cell_type": "code",
   "execution_count": 12,
   "id": "689c984b",
   "metadata": {},
   "outputs": [
    {
     "data": {
      "text/plain": [
       "<Axes: ylabel='Frequency'>"
      ]
     },
     "execution_count": 12,
     "metadata": {},
     "output_type": "execute_result"
    },
    {
     "data": {
      "image/png": "[encoded data removed]",
      "text/plain": [
       "<Figure size 640x480 with 1 Axes>"
      ]
     },
     "metadata": {},
     "output_type": "display_data"
    }
   ],
   "source": [
    "df['Days In Top 10'].plot.hist()"
   ]
  },
  {
   "cell_type": "code",
   "execution_count": 13,
   "id": "676918e1",
   "metadata": {},
   "outputs": [
    {
     "data": {
      "text/plain": [
       "<Axes: ylabel='Frequency'>"
      ]
     },
     "execution_count": 13,
     "metadata": {},
     "output_type": "execute_result"
    },
    {
     "data": {
      "image/png": "[encoded data removed]",
      "text/plain": [
       "<Figure size 640x480 with 1 Axes>"
      ]
     },
     "metadata": {},
     "output_type": "display_data"
    }
   ],
   "source": [
    "df['Viewership Score'].plot.hist()"
   ]
  },
  {
   "cell_type": "code",
   "execution_count": 14,
   "id": "7416867b",
   "metadata": {},
   "outputs": [
    {
     "name": "stdout",
     "output_type": "stream",
     "text": [
      "3.0 18.0 15.0\n",
      "Empty DataFrame\n",
      "Columns: [As of, Rank, Year to Date Rank, Last Week Rank, Title, Type, Netflix Exclusive, Netflix Release Date, Days In Top 10, Viewership Score]\n",
      "Index: []\n",
      "           As of  Rank Year to Date Rank Last Week Rank          Title  \\\n",
      "438   2020-05-14     9                 9              -          Ozark   \n",
      "447   2020-05-15     8                 9             10          Ozark   \n",
      "458   2020-05-16     9                 8              -          Ozark   \n",
      "489   2020-05-19    10                 -              7          Ozark   \n",
      "629   2020-06-02    10                 -              -    Outer Banks   \n",
      "...          ...   ...               ...            ...            ...   \n",
      "7053  2022-03-07     4                 3              4  Love is Blind   \n",
      "7063  2022-03-08     4                 4              4  Love is Blind   \n",
      "7074  2022-03-09     5                 4              5  Love is Blind   \n",
      "7085  2022-03-10     6                 5              5  Love is Blind   \n",
      "7094  2022-03-11     5                 6              6  Love is Blind   \n",
      "\n",
      "         Type Netflix Exclusive Netflix Release Date  Days In Top 10  \\\n",
      "438   TV Show               Yes         Jul 21, 2017              41   \n",
      "447   TV Show               Yes         Jul 21, 2017              42   \n",
      "458   TV Show               Yes         Jul 21, 2017              43   \n",
      "489   TV Show               Yes         Jul 21, 2017              44   \n",
      "629   TV Show               Yes         Apr 15, 2020              41   \n",
      "...       ...               ...                  ...             ...   \n",
      "7053  TV Show               Yes         Feb 13, 2020              42   \n",
      "7063  TV Show               Yes         Feb 13, 2020              43   \n",
      "7074  TV Show               Yes         Feb 13, 2020              44   \n",
      "7085  TV Show               Yes         Feb 13, 2020              45   \n",
      "7094  TV Show               Yes         Feb 13, 2020              46   \n",
      "\n",
      "      Viewership Score  \n",
      "438                256  \n",
      "447                259  \n",
      "458                261  \n",
      "489                262  \n",
      "629                291  \n",
      "...                ...  \n",
      "7053               288  \n",
      "7063               295  \n",
      "7074               301  \n",
      "7085               306  \n",
      "7094               312  \n",
      "\n",
      "[743 rows x 10 columns]\n"
     ]
    }
   ],
   "source": [
    "# Método de Tukey - IQR (Distribuição não normal)\n",
    "# Calcular o IQR\n",
    "Q1 = df['Days In Top 10'].quantile(0.25)\n",
    "Q3 = df['Days In Top 10'].quantile(0.75)\n",
    "IQR = Q3 - Q1\n",
    "print(Q1, Q3, IQR)\n",
    "# Identificar outliers\n",
    "outliers_inferior = df[df['Days In Top 10'] < Q1 - 1.5 * IQR]\n",
    "outliers_superior = df[df['Days In Top 10'] > Q3 + 1.5 * IQR]\n",
    "print(outliers_inferior)\n",
    "print(outliers_superior)"
   ]
  },
  {
   "cell_type": "code",
   "execution_count": 15,
   "id": "f4eeabe4",
   "metadata": {},
   "outputs": [
    {
     "name": "stdout",
     "output_type": "stream",
     "text": [
      "19.0 128.0 109.0\n",
      "Empty DataFrame\n",
      "Columns: [As of, Rank, Year to Date Rank, Last Week Rank, Title, Type, Netflix Exclusive, Netflix Release Date, Days In Top 10, Viewership Score]\n",
      "Index: []\n",
      "           As of  Rank Year to Date Rank Last Week Rank  \\\n",
      "236   2020-04-24     7                 7              2   \n",
      "247   2020-04-25     8                 7              2   \n",
      "255   2020-04-26     6                 8              3   \n",
      "269   2020-04-27    10                 6              4   \n",
      "2382  2020-11-25     3                 2              3   \n",
      "...          ...   ...               ...            ...   \n",
      "7008  2022-03-02     9                 6              3   \n",
      "7063  2022-03-08     4                 4              4   \n",
      "7074  2022-03-09     5                 4              5   \n",
      "7085  2022-03-10     6                 5              5   \n",
      "7094  2022-03-11     5                 6              6   \n",
      "\n",
      "                             Title     Type Netflix Exclusive  \\\n",
      "236   Tiger King: Murder, Mayhem …  TV Show               Yes   \n",
      "247   Tiger King: Murder, Mayhem …  TV Show               Yes   \n",
      "255   Tiger King: Murder, Mayhem …  TV Show               Yes   \n",
      "269   Tiger King: Murder, Mayhem …  TV Show               Yes   \n",
      "2382          The Queenâs Gambit  TV Show               Yes   \n",
      "...                            ...      ...               ...   \n",
      "7008               Sweet Magnolias  TV Show               Yes   \n",
      "7063                 Love is Blind  TV Show               Yes   \n",
      "7074                 Love is Blind  TV Show               Yes   \n",
      "7085                 Love is Blind  TV Show               Yes   \n",
      "7094                 Love is Blind  TV Show               Yes   \n",
      "\n",
      "     Netflix Release Date  Days In Top 10  Viewership Score  \n",
      "236          Mar 20, 2020              32               292  \n",
      "247          Mar 20, 2020              33               295  \n",
      "255          Mar 20, 2020              34               300  \n",
      "269          Mar 20, 2020              35               301  \n",
      "2382         Oct 23, 2020              33               296  \n",
      "...                   ...             ...               ...  \n",
      "7008         May 19, 2020              45               344  \n",
      "7063         Feb 13, 2020              43               295  \n",
      "7074         Feb 13, 2020              44               301  \n",
      "7085         Feb 13, 2020              45               306  \n",
      "7094         Feb 13, 2020              46               312  \n",
      "\n",
      "[698 rows x 10 columns]\n"
     ]
    }
   ],
   "source": [
    "# Método de Tukey - IQR (Distribuição não normal)\n",
    "# Calcular o IQR\n",
    "Q1 = df['Viewership Score'].quantile(0.25)\n",
    "Q3 = df['Viewership Score'].quantile(0.75)\n",
    "IQR = Q3 - Q1\n",
    "print(Q1, Q3, IQR)\n",
    "# Identificar outliers\n",
    "outliers_inferior = df[df['Viewership Score'] < Q1 - 1.5 * IQR]\n",
    "outliers_superior = df[df['Viewership Score'] > Q3 + 1.5 * IQR]\n",
    "print(outliers_inferior)\n",
    "print(outliers_superior)"
   ]
  },
  {
   "cell_type": "code",
   "execution_count": 17,
   "id": "f142c471",
   "metadata": {},
   "outputs": [
    {
     "name": "stderr",
     "output_type": "stream",
     "text": [
      "Done! Use 'show' commands to display/save.   |██████████| [100%]   00:00 -> (00:00 left)\n"
     ]
    }
   ],
   "source": [
    "sv_churn_report = sv.analyze(df, target_feat='Viewership Score')"
   ]
  },
  {
   "cell_type": "code",
   "execution_count": 18,
   "id": "116fbd1c",
   "metadata": {},
   "outputs": [
    {
     "name": "stdout",
     "output_type": "stream",
     "text": [
      "Report SWEETVIZ_REPORT.html was generated! NOTEBOOK/COLAB USERS: the web browser MAY not pop up, regardless, the report IS saved in your notebook/colab files.\n"
     ]
    }
   ],
   "source": [
    "sv_churn_report.show_html()"
   ]
  }
 ],
 "metadata": {
  "kernelspec": {
   "display_name": "analise_exploratoria-mLN5YKDd",
   "language": "python",
   "name": "python3"
  },
  "language_info": {
   "codemirror_mode": {
    "name": "ipython",
    "version": 3
   },
   "file_extension": ".py",
   "mimetype": "text/x-python",
   "name": "python",
   "nbconvert_exporter": "python",
   "pygments_lexer": "ipython3",
   "version": "3.11.7"
  }
 },
 "nbformat": 4,
 "nbformat_minor": 5
}
